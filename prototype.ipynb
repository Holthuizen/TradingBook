{
 "cells": [
  {
   "cell_type": "code",
   "execution_count": 6,
   "id": "ac870d9c",
   "metadata": {},
   "outputs": [],
   "source": [
    "import sqlite3\n",
    "con = sqlite3.connect(\"options1.db\")\n",
    "cur = con.cursor()"
   ]
  },
  {
   "cell_type": "code",
   "execution_count": 7,
   "id": "5fd31f4f",
   "metadata": {},
   "outputs": [],
   "source": [
    "cur.execute(\"\"\"\n",
    "CREATE TABLE IF NOT EXISTS option_orders (\n",
    "    id INTEGER PRIMARY KEY,\n",
    "    symbol TEXT NOT NULL,\n",
    "    option_type TEXT CHECK(option_type IN ('call', 'put')) NOT NULL,\n",
    "    action TEXT CHECK(action IN ('buy', 'sell')) NOT NULL,\n",
    "    strike_price REAL NOT NULL,\n",
    "    expiry_date TEXT NOT NULL,\n",
    "    quantity INTEGER NOT NULL,\n",
    "    price REAL NOT NULL,\n",
    "    costs REAL NOT NULL,\n",
    "    timestamp TEXT DEFAULT CURRENT_TIMESTAMP\n",
    ");\n",
    "\"\"\")\n",
    "con.commit()"
   ]
  },
  {
   "cell_type": "code",
   "execution_count": null,
   "id": "9f8fa3ad",
   "metadata": {},
   "outputs": [],
   "source": [
    "cur.execute(\n",
    "    \"\"\"INSERT INTO option_orders (\n",
    "        symbol, option_type, action,\n",
    "        strike_price, expiry_date,\n",
    "        quantity, price, costs,\n",
    "    ) VALUES (\n",
    "        'AMD', 'call', 'buy', 110, '2025-05-25',1, 5.0, 1\n",
    "    );\"\"\"\n",
    ")\n",
    "con.commit()\n"
   ]
  },
  {
   "cell_type": "code",
   "execution_count": 11,
   "id": "4e522bb0",
   "metadata": {},
   "outputs": [],
   "source": [
    "#view all\n",
    "# import sqlite3\n",
    "# conn = sqlite3.connect('example.db')\n",
    "# cursor = conn.cursor()\n",
    "cur.execute(\"SELECT * FROM option_orders\")\n",
    "rows = cur.fetchall()\n"
   ]
  },
  {
   "cell_type": "code",
   "execution_count": 12,
   "id": "ef447221",
   "metadata": {},
   "outputs": [
    {
     "data": {
      "text/plain": [
       "[(1,\n",
       "  'AMD',\n",
       "  'call',\n",
       "  'buy',\n",
       "  110.0,\n",
       "  '2025-05-25',\n",
       "  1,\n",
       "  5.0,\n",
       "  1.0,\n",
       "  '2025-04-17 12:42:33')]"
      ]
     },
     "execution_count": 12,
     "metadata": {},
     "output_type": "execute_result"
    }
   ],
   "source": [
    "rows"
   ]
  },
  {
   "cell_type": "code",
   "execution_count": null,
   "id": "1ac792a8",
   "metadata": {},
   "outputs": [],
   "source": []
  }
 ],
 "metadata": {
  "kernelspec": {
   "display_name": "Python 3",
   "language": "python",
   "name": "python3"
  },
  "language_info": {
   "codemirror_mode": {
    "name": "ipython",
    "version": 3
   },
   "file_extension": ".py",
   "mimetype": "text/x-python",
   "name": "python",
   "nbconvert_exporter": "python",
   "pygments_lexer": "ipython3",
   "version": "3.11.0"
  }
 },
 "nbformat": 4,
 "nbformat_minor": 5
}
